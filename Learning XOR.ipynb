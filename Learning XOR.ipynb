{
 "cells": [
  {
   "cell_type": "markdown",
   "metadata": {},
   "source": [
    "# The XOR dataset"
   ]
  },
  {
   "cell_type": "markdown",
   "metadata": {},
   "source": [
    "Creating XOR dataset:"
   ]
  },
  {
   "cell_type": "code",
   "execution_count": 1,
   "metadata": {},
   "outputs": [],
   "source": [
    "import numpy as np\n",
    "\n",
    "n_per_corner=25\n",
    "sigma=0.05\n",
    "\n",
    "X_00 = np.random.normal([0,0], sigma, size=(n_per_corner,2))\n",
    "y_00 = np.repeat(0, n_per_corner)\n",
    "X_11 = np.random.normal([1,1], sigma, size=(n_per_corner,2))\n",
    "y_11 = np.repeat(0, n_per_corner)\n",
    "\n",
    "X_01 = np.random.normal([0,1], sigma, size=(n_per_corner,2))\n",
    "y_01 = np.repeat(1, n_per_corner)\n",
    "X_10 = np.random.normal([1,0], sigma, size=(n_per_corner,2))\n",
    "y_10 = np.repeat(1, n_per_corner)"
   ]
  },
  {
   "cell_type": "markdown",
   "metadata": {},
   "source": [
    "Look at the dataset: "
   ]
  },
  {
   "cell_type": "code",
   "execution_count": 2,
   "metadata": {},
   "outputs": [
    {
     "data": {
      "text/plain": [
       "<matplotlib.collections.PathCollection at 0x238c843c5c8>"
      ]
     },
     "execution_count": 2,
     "metadata": {},
     "output_type": "execute_result"
    },
    {
     "data": {
      "image/png": "[encoded data removed]",
      "text/plain": [
       "<Figure size 432x288 with 1 Axes>"
      ]
     },
     "metadata": {},
     "output_type": "display_data"
    }
   ],
   "source": [
    "%matplotlib inline\n",
    "from matplotlib import pyplot as plt\n",
    "plt.style.use('ggplot')\n",
    "\n",
    "plt.scatter(X_00[:,0], X_00[:,1], color='r')\n",
    "plt.scatter(X_11[:,0], X_11[:,1], color='r')\n",
    "plt.scatter(X_01[:,0], X_01[:,1], color='b')\n",
    "plt.scatter(X_10[:,0], X_10[:,1], color='b')"
   ]
  },
  {
   "cell_type": "markdown",
   "metadata": {},
   "source": [
    "The red point belongs to class 0 and the blue points belongs to class 1. One can easily split the points by drawing following lines:"
   ]
  },
  {
   "cell_type": "code",
   "execution_count": 3,
   "metadata": {},
   "outputs": [
    {
     "data": {
      "text/plain": [
       "[<matplotlib.lines.Line2D at 0x238cb93be08>]"
      ]
     },
     "execution_count": 3,
     "metadata": {},
     "output_type": "execute_result"
    },
    {
     "data": {
      "image/png": "[encoded data removed]",
      "text/plain": [
       "<Figure size 432x288 with 1 Axes>"
      ]
     },
     "metadata": {},
     "output_type": "display_data"
    }
   ],
   "source": [
    "plt.scatter(X_00[:,0], X_00[:,1], color='r')\n",
    "plt.scatter(X_11[:,0], X_11[:,1], color='r')\n",
    "plt.scatter(X_01[:,0], X_01[:,1], color='b')\n",
    "plt.scatter(X_10[:,0], X_10[:,1], color='b')\n",
    "plt.plot([0.5, 0.5], [-0.25, 1.25], 'k-', color = 'k')\n",
    "plt.plot([-0.25, 1.25], [0.5, 0.5], 'k-', color = 'k')"
   ]
  },
  {
   "cell_type": "markdown",
   "metadata": {},
   "source": [
    "# Fitting a decision tree"
   ]
  },
  {
   "cell_type": "markdown",
   "metadata": {},
   "source": [
    "The model that should easily be able to do that is a simple decision tree. These models always split the pace into linear partitions. First define a method to create the dataset. "
   ]
  },
  {
   "cell_type": "code",
   "execution_count": 4,
   "metadata": {},
   "outputs": [],
   "source": [
    "def get_XOR_dataset(n_per_corner, sigma):\n",
    "    X_00 = np.random.normal([0,0], sigma, size=(n_per_corner,2))\n",
    "    y_00 = np.repeat(0, n_per_corner)\n",
    "    X_11 = np.random.normal([1,1], sigma, size=(n_per_corner,2))\n",
    "    y_11 = np.repeat(0, n_per_corner)\n",
    "    \n",
    "    X_01 = np.random.normal([0,1], sigma, size=(n_per_corner,2))\n",
    "    y_01 = np.repeat(1, n_per_corner)\n",
    "    X_10 = np.random.normal([1,0], sigma, size=(n_per_corner,2))\n",
    "    y_10 = np.repeat(1, n_per_corner)\n",
    "    \n",
    "    X = np.concatenate((X_00, X_11, X_01, X_10))\n",
    "    y= np.concatenate((y_00, y_11, y_01, y_10))\n",
    "    return X, y"
   ]
  },
  {
   "cell_type": "markdown",
   "metadata": {},
   "source": [
    "Now fit split the data set into a train and validation set and fit a decision tree. "
   ]
  },
  {
   "cell_type": "code",
   "execution_count": 5,
   "metadata": {},
   "outputs": [],
   "source": [
    "from sklearn.tree import DecisionTreeClassifier\n",
    "from sklearn.model_selection import train_test_split\n",
    "\n",
    "np.random.seed(0)\n",
    "X, y = get_XOR_dataset(n_per_corner=1000, sigma=0.1)\n",
    "X_train, X_val, y_train, y_val = train_test_split(X, y, test_size=0.25, random_state=123)\n",
    "\n",
    "max_leaf_nodes = 4\n",
    "model = DecisionTreeClassifier(random_state=0, max_leaf_nodes=max_leaf_nodes).fit(X_train, y_train)\n",
    "\n",
    "y_prob_val = model.predict_proba(X_val)[:,1]\n",
    "y_prob_train = model.predict_proba(X_train)[:,1]"
   ]
  },
  {
   "cell_type": "markdown",
   "metadata": {},
   "source": [
    "Look at the performance of the tree. I received the ratios of each leaf, so using a threshold of 0.5 gives me a majority vote of the class that the tree predicts. "
   ]
  },
  {
   "cell_type": "code",
   "execution_count": 6,
   "metadata": {},
   "outputs": [
    {
     "name": "stdout",
     "output_type": "stream",
     "text": [
      "0.547\n"
     ]
    }
   ],
   "source": [
    "from sklearn.metrics import accuracy_score\n",
    "\n",
    "y_pred = np.where(y_prob_val > 0.5, 1, 0)\n",
    "accuracy = accuracy_score(y_true=y_val, y_pred=y_pred)\n",
    "print(accuracy)"
   ]
  },
  {
   "cell_type": "markdown",
   "metadata": {},
   "source": [
    "Look at the tree. "
   ]
  },
  {
   "cell_type": "code",
   "execution_count": 7,
   "metadata": {
    "scrolled": true
   },
   "outputs": [
    {
     "data": {
      "text/plain": [
       "[Text(279.0, 226.5, 'X[0] <= 1.118\\ngini = 0.5\\nsamples = 3000\\nvalue = [1499, 1501]'),\n",
       " Text(139.5, 135.9, 'X[1] <= 0.963\\ngini = 0.5\\nsamples = 2838\\nvalue = [1435, 1403]'),\n",
       " Text(69.75, 45.29999999999998, 'gini = 0.498\\nsamples = 1912\\nvalue = [1020, 892]'),\n",
       " Text(209.25, 45.29999999999998, 'gini = 0.495\\nsamples = 926\\nvalue = [415, 511]'),\n",
       " Text(418.5, 135.9, 'X[1] <= 0.497\\ngini = 0.478\\nsamples = 162\\nvalue = [64, 98]'),\n",
       " Text(348.75, 45.29999999999998, 'gini = 0.0\\nsamples = 98\\nvalue = [0, 98]'),\n",
       " Text(488.25, 45.29999999999998, 'gini = 0.0\\nsamples = 64\\nvalue = [64, 0]')]"
      ]
     },
     "execution_count": 7,
     "metadata": {},
     "output_type": "execute_result"
    },
    {
     "data": {
      "image/png": "[encoded data removed]",
      "text/plain": [
       "<Figure size 720x360 with 1 Axes>"
      ]
     },
     "metadata": {},
     "output_type": "display_data"
    }
   ],
   "source": [
    "from sklearn.tree import plot_tree\n",
    "\n",
    "plt.figure(figsize=(10,5))\n",
    "                                   \n",
    "plot_tree(model, fontsize=10)"
   ]
  },
  {
   "cell_type": "markdown",
   "metadata": {},
   "source": [
    "The tree is not able to learn the data. This is because of the formulation of the loss function along with the optimization algorithm. If the tree would do the splits accoring to the drawn lines, the first line (either horizontal or vertical) would be the wost split according to the gini impurity. Hence the model can not learn the splits, at least with this setting (max_leaf = 4 and no pruning)."
   ]
  },
  {
   "cell_type": "markdown",
   "metadata": {},
   "source": [
    "# Fitting a multilayer neural network"
   ]
  },
  {
   "cell_type": "markdown",
   "metadata": {},
   "source": [
    "Defining the model according *Deep Learning, Goodfellow-et-al-2016* equation 6.3:"
   ]
  },
  {
   "cell_type": "code",
   "execution_count": 8,
   "metadata": {},
   "outputs": [],
   "source": [
    "import torch.nn as nn\n",
    "import torch\n",
    "\n",
    "class NN(nn.Module):\n",
    "    def __init__(self, input_size, hidden_size):\n",
    "        super(NN, self).__init__()\n",
    "        self.input_size = input_size\n",
    "        self.hidden_size  = hidden_size\n",
    "\n",
    "        self.fc1 = nn.Linear(self.input_size,self.hidden_size)\n",
    "        self.relu1 = nn.ReLU()\n",
    "\n",
    "        self.fc2 = nn.Linear(self.hidden_size, 1)         \n",
    "\n",
    "        self.sigmoid = nn.Sigmoid()\n",
    "\n",
    "    def forward(self, x):\n",
    "        hidden1 = self.fc1(x)\n",
    "        relu1 = self.relu1(hidden1)\n",
    "\n",
    "        output = self.fc2(relu1)\n",
    "        output = self.sigmoid(output)\n",
    "        return output"
   ]
  },
  {
   "cell_type": "markdown",
   "metadata": {},
   "source": [
    "Defining the training."
   ]
  },
  {
   "cell_type": "code",
   "execution_count": 9,
   "metadata": {},
   "outputs": [],
   "source": [
    "def training(model, X_train_T, y_train_T, lr,  n_epochs):\n",
    "    criterion = nn.BCELoss()\n",
    "    optimizer = torch.optim.SGD(model.parameters(), lr = lr)    \n",
    "    \n",
    "    model.train()\n",
    "    for epoch in range(n_epochs):\n",
    "        optimizer.zero_grad()\n",
    "        y_pred = model(X_train_T)\n",
    "        loss = criterion(y_pred.squeeze(), y_train_T)\n",
    "      \n",
    "        #print('Epoch {}: train loss: {}'.format(epoch, loss.item()))\n",
    "        \n",
    "        loss.backward()\n",
    "        optimizer.step()"
   ]
  },
  {
   "cell_type": "markdown",
   "metadata": {},
   "source": [
    "Converting `numpy` arrays to `pytorch` tensors."
   ]
  },
  {
   "cell_type": "code",
   "execution_count": 10,
   "metadata": {},
   "outputs": [],
   "source": [
    "X_train_T = torch.from_numpy(X_train).float()\n",
    "y_train_T = torch.from_numpy(y_train).float()  \n",
    "X_val_T = torch.from_numpy(X_val).float()\n",
    "\n",
    "torch.manual_seed(848)\n",
    "\n",
    "model = NN(input_size=2, hidden_size=2)\n",
    "\n",
    "training(model, X_train_T, y_train_T, lr = 1, n_epochs=120)"
   ]
  },
  {
   "cell_type": "markdown",
   "metadata": {},
   "source": [
    "Evaluate the performance:"
   ]
  },
  {
   "cell_type": "code",
   "execution_count": 11,
   "metadata": {},
   "outputs": [
    {
     "name": "stdout",
     "output_type": "stream",
     "text": [
      "1.0\n"
     ]
    }
   ],
   "source": [
    "model.eval()\n",
    "with torch.no_grad():\n",
    "    y_prob_val = model.forward(X_val_T).view(-1).detach().numpy()\n",
    "\n",
    "y_pred = np.where(y_prob_val > 0.5, 1, 0)\n",
    "accuracy = accuracy_score(y_true=y_val, y_pred=y_pred)\n",
    "print(accuracy)"
   ]
  },
  {
   "cell_type": "markdown",
   "metadata": {},
   "source": [
    "Because the parameters are learned with numerical optimization, the accuracy will change if I change the seed. In the book the parameters as determinded \"by hand\"."
   ]
  }
 ],
 "metadata": {
  "kernelspec": {
   "display_name": "Python 3",
   "language": "python",
   "name": "python3"
  },
  "language_info": {
   "codemirror_mode": {
    "name": "ipython",
    "version": 3
   },
   "file_extension": ".py",
   "mimetype": "text/x-python",
   "name": "python",
   "nbconvert_exporter": "python",
   "pygments_lexer": "ipython3",
   "version": "3.7.7"
  }
 },
 "nbformat": 4,
 "nbformat_minor": 4
}
